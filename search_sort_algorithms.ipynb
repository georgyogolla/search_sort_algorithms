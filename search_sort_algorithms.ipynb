{
 "cells": [
  {
   "cell_type": "markdown",
   "id": "783cdd5e",
   "metadata": {},
   "source": [
    "#### Linear Search"
   ]
  },
  {
   "cell_type": "code",
   "execution_count": 18,
   "id": "6f0b507c",
   "metadata": {},
   "outputs": [],
   "source": [
    "# start from index 0\n",
    "# go through each item until you find the item you are looking for or until you get to the end of the list\n",
    "# It takes so much time for large datasets\n",
    "# it is efficient for small datasets\n",
    "\n",
    "def linear_search(item,my_list):\n",
    "    i = 0 # first index of a list\n",
    "    found = False\n",
    "    \n",
    "    while i < len(my_list) and found == False:\n",
    "        if my_list[i] == item:\n",
    "            found = True\n",
    "        else:\n",
    "            i = i + 1\n",
    "    return found"
   ]
  },
  {
   "cell_type": "code",
   "execution_count": 19,
   "id": "bf9682c9",
   "metadata": {},
   "outputs": [
    {
     "name": "stdout",
     "output_type": "stream",
     "text": [
      "True\n",
      "False\n"
     ]
    }
   ],
   "source": [
    "test = [6,5,8,2,3,45,87,24,70]\n",
    "print(linear_search(8,test))\n",
    "print(linear_search(130,test))"
   ]
  },
  {
   "cell_type": "code",
   "execution_count": null,
   "id": "f8bc956a",
   "metadata": {},
   "outputs": [],
   "source": []
  },
  {
   "cell_type": "markdown",
   "id": "6c970512",
   "metadata": {},
   "source": [
    "#### Binary search"
   ]
  },
  {
   "cell_type": "code",
   "execution_count": 17,
   "id": "2aef4c11",
   "metadata": {},
   "outputs": [],
   "source": [
    "# start from the midpoint index of a list\n",
    "# it relies on a sorted list just like a dictionary is sorted\n",
    "\n",
    "def binary_search(item,my_list):\n",
    "    found = False\n",
    "    first = 0\n",
    "    last = len(my_list) - 1\n",
    "    \n",
    "    while first <= last and found == False:\n",
    "        midpoint = (first + last)//2 #flow division to omit decimal point\n",
    "        if my_list[midpoint] == item:\n",
    "            found = True\n",
    "        else:\n",
    "            if my_list[midpoint] < item:\n",
    "                first = midpoint + 1\n",
    "            else:\n",
    "                last = midpoint - 1\n",
    "    return found"
   ]
  },
  {
   "cell_type": "code",
   "execution_count": 9,
   "id": "f2e25748",
   "metadata": {},
   "outputs": [
    {
     "name": "stdout",
     "output_type": "stream",
     "text": [
      "True\n",
      "False\n"
     ]
    }
   ],
   "source": [
    "test = [6,5,8,2,3,45,87,24,70]\n",
    "print(linear_search(8,test))\n",
    "print(linear_search(130,test))"
   ]
  },
  {
   "cell_type": "code",
   "execution_count": null,
   "id": "ae3d6d72",
   "metadata": {},
   "outputs": [],
   "source": []
  },
  {
   "cell_type": "markdown",
   "id": "fd5979fd",
   "metadata": {},
   "source": [
    "#### Bubble sort"
   ]
  },
  {
   "cell_type": "code",
   "execution_count": 11,
   "id": "81b9ff0b",
   "metadata": {},
   "outputs": [],
   "source": [
    "def bubble_sort(my_list):\n",
    "    swap_again = True\n",
    "    n = len(my_list)\n",
    "    while n > 0 and swap_again == True:\n",
    "        n = n - 1\n",
    "        swap_again == False\n",
    "        \n",
    "        for i in range(n):\n",
    "            if my_list[i] > my_list[i+1]:\n",
    "                my_list[i], my_list[i+1] = my_list[i+1], my_list[i]\n",
    "                swap_again = True\n",
    "    return my_list"
   ]
  },
  {
   "cell_type": "code",
   "execution_count": 12,
   "id": "3e632aff",
   "metadata": {},
   "outputs": [
    {
     "name": "stdout",
     "output_type": "stream",
     "text": [
      "[2, 3, 5, 6, 8, 24, 45, 70, 87]\n"
     ]
    }
   ],
   "source": [
    "test_2 = [70,24,87,45,6,3,2,8,5]\n",
    "print(bubble_sort(test_2))"
   ]
  },
  {
   "cell_type": "code",
   "execution_count": null,
   "id": "176e877b",
   "metadata": {},
   "outputs": [],
   "source": []
  },
  {
   "cell_type": "markdown",
   "id": "7ecafe2b",
   "metadata": {},
   "source": [
    "#### Insertion sort"
   ]
  },
  {
   "cell_type": "code",
   "execution_count": 13,
   "id": "f890fc65",
   "metadata": {},
   "outputs": [],
   "source": [
    "# assume first item in list is sorted so we start at index 1\n",
    "# if item on your right < curent item then insert it before cuent item to sort it out\n",
    "# all the time , the list item on the left are always sorted\n",
    "\n",
    "def insertion_sort(my_list):\n",
    "    n = len(my_list)\n",
    "    for i in range(1,n):\n",
    "        value = my_list[i]\n",
    "        j = i\n",
    "        while j > 0 and my_list[j-1] > value:\n",
    "            my_list[j] = my_list[j-1]\n",
    "            j = j - 1\n",
    "        my_list[j] = value\n",
    "    return my_list"
   ]
  },
  {
   "cell_type": "code",
   "execution_count": 14,
   "id": "25d1bbe3",
   "metadata": {},
   "outputs": [
    {
     "name": "stdout",
     "output_type": "stream",
     "text": [
      "[2, 3, 5, 6, 8, 24, 45, 70, 87]\n"
     ]
    }
   ],
   "source": [
    "test_2 = [70,24,87,45,6,3,2,8,5]\n",
    "print(insertion_sort(test_2))"
   ]
  },
  {
   "cell_type": "code",
   "execution_count": null,
   "id": "2fbbfd66",
   "metadata": {},
   "outputs": [],
   "source": []
  }
 ],
 "metadata": {
  "kernelspec": {
   "display_name": "Python 3 (ipykernel)",
   "language": "python",
   "name": "python3"
  },
  "language_info": {
   "codemirror_mode": {
    "name": "ipython",
    "version": 3
   },
   "file_extension": ".py",
   "mimetype": "text/x-python",
   "name": "python",
   "nbconvert_exporter": "python",
   "pygments_lexer": "ipython3",
   "version": "3.9.7"
  }
 },
 "nbformat": 4,
 "nbformat_minor": 5
}
